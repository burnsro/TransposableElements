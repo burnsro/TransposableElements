{
 "cells": [
  {
   "cell_type": "code",
   "execution_count": 15,
   "id": "cd8a022e",
   "metadata": {},
   "outputs": [
    {
     "name": "stdout",
     "output_type": "stream",
     "text": [
      "           0           1     2      3     4      5      6        7    8   9   \\\n",
      "0  AT1TE52125  AT1TE52125     1  11559     1  11559  11559  100.000    0   0   \n",
      "1  AT1TE52125  AT1TE52105     1   8011  3566  11559   8012   99.114   52   4   \n",
      "2  AT1TE52125  AT1TE52105  8012   9174  4105   5274   1170   98.718    8   1   \n",
      "3  AT1TE52125  AT5TE42975   252   7745  3772  11286   7548   96.078  209  30   \n",
      "4  AT1TE52125  AT5TE42975     1    273  3566   3839    274   92.336   20   1   \n",
      "\n",
      "   10    11             12   13  \n",
      "0   0  plus   0.000000e+00  100  \n",
      "1  19  plus   0.000000e+00   69  \n",
      "2   7  plus   0.000000e+00   69  \n",
      "3  87  plus   0.000000e+00   67  \n",
      "4   1  plus  2.180000e-106   67  \n"
     ]
    }
   ],
   "source": [
    "import pandas as pd\n",
    "import os\n",
    "import numpy as np\n",
    "import seaborn as sns\n",
    "import random\n",
    "\n",
    "blastTEs=pd.read_csv('TAIR10_TE.short.fasta_blastall', header=None, sep=',')\n",
    "print(blastTEs.head(n=5))\n",
    "\n"
   ]
  },
  {
   "cell_type": "code",
   "execution_count": 4,
   "id": "1d30ec53",
   "metadata": {},
   "outputs": [],
   "source": [
    "multi_hits=set()\n",
    "self_hits=set()\n",
    "for index,row in blastTEs.iterrows():\n",
    "    query=row[0]\n",
    "    hit=row[1]\n",
    "    length=row[3]\n",
    "    percentage=row[2]\n",
    "    if  query!=hit:\n",
    "        multi_hits.add(query)\n",
    "        \n",
    "\n",
    "\n",
    "for index,row in blastTEs.iterrows():\n",
    "    query=row[0]\n",
    "    hit=row[1]\n",
    "    length=row[3]\n",
    "    percentage=row[2]\n",
    "    if query not in multi_hits:\n",
    "        self_hits.add(query)\n",
    "\n",
    "\n",
    "with open(\"Selfhitsonly_TEs.txt\", 'w') as file_handler:\n",
    "    for item in self_hits:\n",
    "        file_handler.write(\"{}\\n\".format(item))\n",
    "        \n",
    "with open(\"Multihits_TEs.txt\", 'w') as file_handler:\n",
    "    for item in multi_hits:\n",
    "        file_handler.write(\"{}\\n\".format(item))\n",
    "        "
   ]
  },
  {
   "cell_type": "code",
   "execution_count": 7,
   "id": "a1d2ebcd",
   "metadata": {},
   "outputs": [],
   "source": [
    "out=open('Tair10_TEs_blastall.out_torandomlychoose', 'w')\n",
    "for index,row in blastTEs.iterrows():\n",
    "    query=row[0]\n",
    "    hit=row[1]\n",
    "    length=row[6]\n",
    "    percentage=row[7]\n",
    "    if query in multi_hits and query!=hit:\n",
    "        out.write('%s,%s,%s,%s\\n'%(query,hit,length,percentage))\n"
   ]
  },
  {
   "cell_type": "code",
   "execution_count": 3,
   "id": "6d03905c",
   "metadata": {},
   "outputs": [
    {
     "name": "stdout",
     "output_type": "stream",
     "text": [
      "            0           1     2       3\n",
      "0  AT1TE52125  AT1TE52105  8012  99.114\n",
      "1  AT1TE52125  AT1TE52105  1170  98.718\n",
      "2  AT1TE52125  AT5TE42975  7548  96.078\n",
      "3  AT1TE52125  AT5TE42975   274  92.336\n",
      "4  AT1TE52125  AT3TE62020  7010  96.220\n"
     ]
    }
   ],
   "source": [
    "blastTEstochoose=pd.read_csv('Tair10_TEs_blastall.out_torandomlychoose', header=None, sep=',')\n",
    "print(blastTEstochoose.head(n=5))"
   ]
  },
  {
   "cell_type": "code",
   "execution_count": 13,
   "id": "968497a0",
   "metadata": {},
   "outputs": [
    {
     "data": {
      "text/html": [
       "<div>\n",
       "<style scoped>\n",
       "    .dataframe tbody tr th:only-of-type {\n",
       "        vertical-align: middle;\n",
       "    }\n",
       "\n",
       "    .dataframe tbody tr th {\n",
       "        vertical-align: top;\n",
       "    }\n",
       "\n",
       "    .dataframe thead th {\n",
       "        text-align: right;\n",
       "    }\n",
       "</style>\n",
       "<table border=\"1\" class=\"dataframe\">\n",
       "  <thead>\n",
       "    <tr style=\"text-align: right;\">\n",
       "      <th></th>\n",
       "      <th>0</th>\n",
       "      <th>1</th>\n",
       "      <th>2</th>\n",
       "      <th>3</th>\n",
       "    </tr>\n",
       "  </thead>\n",
       "  <tbody>\n",
       "    <tr>\n",
       "      <th>0</th>\n",
       "      <td>AT1TE00025</td>\n",
       "      <td>AT1TE01615</td>\n",
       "      <td>1175</td>\n",
       "      <td>89.744</td>\n",
       "    </tr>\n",
       "    <tr>\n",
       "      <th>1</th>\n",
       "      <td>AT1TE00025</td>\n",
       "      <td>AT1TE06465</td>\n",
       "      <td>48</td>\n",
       "      <td>91.667</td>\n",
       "    </tr>\n",
       "    <tr>\n",
       "      <th>2</th>\n",
       "      <td>AT1TE00025</td>\n",
       "      <td>AT1TE06480</td>\n",
       "      <td>1268</td>\n",
       "      <td>94.107</td>\n",
       "    </tr>\n",
       "    <tr>\n",
       "      <th>3</th>\n",
       "      <td>AT1TE00025</td>\n",
       "      <td>AT1TE07300</td>\n",
       "      <td>986</td>\n",
       "      <td>94.930</td>\n",
       "    </tr>\n",
       "    <tr>\n",
       "      <th>4</th>\n",
       "      <td>AT1TE00025</td>\n",
       "      <td>AT1TE09970</td>\n",
       "      <td>1621</td>\n",
       "      <td>97.309</td>\n",
       "    </tr>\n",
       "  </tbody>\n",
       "</table>\n",
       "</div>"
      ],
      "text/plain": [
       "            0           1     2       3\n",
       "0  AT1TE00025  AT1TE01615  1175  89.744\n",
       "1  AT1TE00025  AT1TE06465    48  91.667\n",
       "2  AT1TE00025  AT1TE06480  1268  94.107\n",
       "3  AT1TE00025  AT1TE07300   986  94.930\n",
       "4  AT1TE00025  AT1TE09970  1621  97.309"
      ]
     },
     "execution_count": 13,
     "metadata": {},
     "output_type": "execute_result"
    }
   ],
   "source": [
    "mygrp =blastTEstochoose.groupby([0,1])\\\n",
    ".agg({2:'sum', 3:'median'}) \\\n",
    ".reset_index()\n",
    "        \n",
    "mygrp.head(n=5)"
   ]
  },
  {
   "cell_type": "code",
   "execution_count": 26,
   "id": "f2d7c1b3",
   "metadata": {},
   "outputs": [],
   "source": [
    "mychosen=set()\n",
    "for index,row in mygrp.iterrows():\n",
    "    te1=row[0]\n",
    "    te2=row[1]\n",
    "    tochoose=te1,te2\n",
    "    length=row[2]\n",
    "    percentage=row[3]\n",
    "    chosen=random.choice(tochoose)\n",
    "    if chosen not in mychosen and int(length)>=200 and int(percentage)>=85:\n",
    "        mychosen.add(chosen)\n",
    "    else:\n",
    "        pass\n",
    "    "
   ]
  },
  {
   "cell_type": "code",
   "execution_count": 28,
   "id": "bfc5e74c",
   "metadata": {},
   "outputs": [
    {
     "name": "stdout",
     "output_type": "stream",
     "text": [
      "8643\n"
     ]
    }
   ],
   "source": [
    "print(len(mychosen))"
   ]
  },
  {
   "cell_type": "code",
   "execution_count": 33,
   "id": "969cc941",
   "metadata": {},
   "outputs": [
    {
     "data": {
      "text/plain": [
       "13955"
      ]
     },
     "execution_count": 33,
     "metadata": {},
     "output_type": "execute_result"
    }
   ],
   "source": [
    "len(mygrp[0].unique()) "
   ]
  },
  {
   "cell_type": "code",
   "execution_count": 34,
   "id": "c1880d39",
   "metadata": {},
   "outputs": [],
   "source": [
    "mychosenpd=pd.DataFrame(mychosen)"
   ]
  },
  {
   "cell_type": "code",
   "execution_count": 35,
   "id": "08313e52",
   "metadata": {},
   "outputs": [
    {
     "name": "stdout",
     "output_type": "stream",
     "text": [
      "            0\n",
      "0  AT4TE18700\n",
      "1  AT3TE46350\n",
      "2  AT1TE47680\n",
      "3  AT4TE18320\n",
      "4  AT4TE14305\n"
     ]
    }
   ],
   "source": [
    "print(mychosenpd.head(n=5))"
   ]
  },
  {
   "cell_type": "code",
   "execution_count": 36,
   "id": "2ec23539",
   "metadata": {},
   "outputs": [],
   "source": [
    "mychosenpd.to_csv(\"Tair10Multi_hits_aggchosen1random.txt\")"
   ]
  },
  {
   "cell_type": "code",
   "execution_count": null,
   "id": "d6baf51d",
   "metadata": {},
   "outputs": [],
   "source": [
    "#add self hits to randomly chosen multi hit"
   ]
  }
 ],
 "metadata": {
  "kernelspec": {
   "display_name": "Python 3 (ipykernel)",
   "language": "python",
   "name": "python3"
  },
  "language_info": {
   "codemirror_mode": {
    "name": "ipython",
    "version": 3
   },
   "file_extension": ".py",
   "mimetype": "text/x-python",
   "name": "python",
   "nbconvert_exporter": "python",
   "pygments_lexer": "ipython3",
   "version": "3.9.5"
  }
 },
 "nbformat": 4,
 "nbformat_minor": 5
}
